{
 "cells": [
  {
   "cell_type": "markdown",
   "metadata": {},
   "source": [
    "Ejercicio 1: Creación de diccionarios de Python\n",
    "Ejercicio: Crear y modificar un diccionario de Python"
   ]
  },
  {
   "cell_type": "code",
   "execution_count": 10,
   "metadata": {},
   "outputs": [
    {
     "name": "stdout",
     "output_type": "stream",
     "text": [
      "Sabemos que Mars tiene 2 lunas.\n",
      "Mars su circunferencia polar es de: 6752\n",
      "Mars polar diameter: 6752\n"
     ]
    }
   ],
   "source": [
    "# Crea un diccionario llamado planet con los datos propuestos\n",
    "\n",
    "planet = {\n",
    "    'name': 'Mars',\n",
    "    'moons': 2\n",
    "}\n",
    "# Muestra el nombre del planeta y el número de lunas que tiene.\n",
    "\n",
    "print('Sabemos que',planet['name'],'tiene',planet['moons'],'lunas.')\n",
    "\n",
    "# Agrega la clave circunferencia con los datos proporcionados previamente\n",
    "planet['diameter (km)'] = {\n",
    "    'polar': 6752,\n",
    "    'equatorial': 6792\n",
    "}\n",
    "\n",
    "print(planet['name'],'su circunferencia polar es de:',planet['diameter (km)']['polar'])\n",
    "#En el codigo del ejemplo de la Kata me marcaba error con comillas simples, por lo que reemplaze con compillas triples dobles.\n",
    "print(f\"\"\"{planet['name']} polar diameter: {planet['diameter (km)']['polar']}\"\"\")\n",
    "\n"
   ]
  },
  {
   "cell_type": "markdown",
   "metadata": {},
   "source": [
    "Ejercicio 2: Programación dinámica con diccionarios\n",
    "Ejercicio: Cálculo de valores\n",
    "En este escenario, calcularás tanto el número total de lunas en el sistema solar como el número promedio de lunas que tiene un planeta."
   ]
  },
  {
   "cell_type": "code",
   "execution_count": 18,
   "metadata": {},
   "outputs": [
    {
     "name": "stdout",
     "output_type": "stream",
     "text": [
      "Se tiene un numero total de lunas de: 214\n",
      "Se tiene un total de planetas de: 12\n",
      "El promedio de lunas por planetas es de: 17.833333333333332\n"
     ]
    }
   ],
   "source": [
    "# Planets and moons\n",
    "\n",
    "planet_moons = {\n",
    "    'mercury': 0,\n",
    "    'venus': 0,\n",
    "    'earth': 1,\n",
    "    'mars': 2,\n",
    "    'jupiter': 79,\n",
    "    'saturn': 82,\n",
    "    'uranus': 27,\n",
    "    'neptune': 14,\n",
    "    'pluto': 5,\n",
    "    'haumea': 2,\n",
    "    'makemake': 1,\n",
    "    'eris': 1\n",
    "}\n",
    "\n",
    "# Añade el código para determinar el número de lunas.\n",
    "total_moons = 0\n",
    "for value in planet_moons.values():\n",
    "    total_moons = total_moons + value\n",
    "\n",
    "print('Se tiene un numero total de lunas de:',total_moons)\n",
    "\n",
    "planets = len(planet_moons)\n",
    "print('Se tiene un total de planetas de:', planets)\n",
    "\n",
    "promedio = total_moons / planets\n",
    "print('El promedio de lunas por planetas es de:',promedio)"
   ]
  }
 ],
 "metadata": {
  "interpreter": {
   "hash": "e9be50fb4cde9e4af4ad6ac868f3a5a13e8a856e8f814061292b5f072706683f"
  },
  "kernelspec": {
   "display_name": "Python 3.10.2 64-bit",
   "language": "python",
   "name": "python3"
  },
  "language_info": {
   "codemirror_mode": {
    "name": "ipython",
    "version": 3
   },
   "file_extension": ".py",
   "mimetype": "text/x-python",
   "name": "python",
   "nbconvert_exporter": "python",
   "pygments_lexer": "ipython3",
   "version": "3.10.2"
  },
  "orig_nbformat": 4
 },
 "nbformat": 4,
 "nbformat_minor": 2
}
