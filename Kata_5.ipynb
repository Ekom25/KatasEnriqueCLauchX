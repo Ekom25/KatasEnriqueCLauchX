{
 "cells": [
  {
   "cell_type": "code",
   "execution_count": 8,
   "metadata": {},
   "outputs": [
    {
     "name": "stdout",
     "output_type": "stream",
     "text": [
      "628949330\n",
      "390577533.93\n"
     ]
    }
   ],
   "source": [
    "#Exploremos cómo podemos crear un programa que pueda calcular la distancia entre dos planetas. \n",
    "#Comenzaremos usando dos distancias de planetas: Tierra (149.597.870 km) y Júpiter (778.547.200 km).\n",
    "#Con los valores obtenidos, es el momento de añadir el código para realizar la operación. \n",
    "# Restarás el primer planeta del segundo para determinar la distancia en kilómetros. \n",
    "# A continuación, puedes convertir la distancia del kilómetro en millas multiplicándola por 0.621.\n",
    "\n",
    "Tierra = 149597870\n",
    "Jupiter = 778547200\n",
    "\n",
    "Distancia = Tierra - Jupiter\n",
    "print(abs(Distancia))\n",
    "\n",
    "from math import floor\n",
    "Millas_Dis = Distancia * 0.621\n",
    "print(abs(Millas_Dis))\n",
    "\n"
   ]
  },
  {
   "cell_type": "markdown",
   "metadata": {},
   "source": [
    "Ejercicio 2: convierte cadenas en números y usa valores absolutos\n",
    "\n",
    "Crear una aplicación para trabajar con números y entrada de usuario\n",
    "Con frecuencia, deberás convertir los valores de cadena en números para realizar correctamente diferentes operaciones o determinar el valor absoluto de un número.\n",
    "\n",
    "Para crear nuestra aplicación, queremos leer la distancia del sol para dos planetas, y luego mostrar la distancia entre los planetas. Haremos esto usando input para leer los valores, int para convertir a entero y luego abs para convertir el resultado en su valor absoluto."
   ]
  },
  {
   "cell_type": "code",
   "execution_count": 17,
   "metadata": {},
   "outputs": [
    {
     "name": "stdout",
     "output_type": "stream",
     "text": [
      "1205600000\n",
      "748677600.0\n"
     ]
    }
   ],
   "source": [
    "#Lee los valores; Marte = 227900000 y Saturno = 1433500000\n",
    "Plan01 = input(\"Distancia del sol a Marte\")\n",
    "Plan02 = input(\"Distancia del sol a Saturno\")\n",
    "\n",
    "#Convertir de cadena a número para hacer operación\n",
    "Plane01 = int(Plan01)\n",
    "Plane02 = int(Plan02)\n",
    "\n",
    "Distancia = Plane01 - Plane02\n",
    "Dis_Millas = Distancia * 0.621\n",
    "\n",
    "print(abs(Distancia))\n",
    "print(abs(Dis_Millas))\n"
   ]
  },
  {
   "cell_type": "code",
   "execution_count": 24,
   "metadata": {},
   "outputs": [
    {
     "name": "stdout",
     "output_type": "stream",
     "text": [
      "Calcular la distancia entre dos planetas a elección.\n",
      "----------------------------------------------------------------\n",
      "Distancia 1:227900000\n",
      "Distancia 2:1433500000\n",
      "Distancia en Km = 1205600000 [Km]\n",
      "Distancia en millas = 748677600.0 [mi]\n",
      "\n"
     ]
    }
   ],
   "source": [
    "#Vamos acomodar este ejercicio como nos enseñaron en la kata 4.\n",
    "#Lee los valores; Marte = 227900000 y Saturno = 1433500000\n",
    "Plan01 = input(\"Distancia del sol del primer planeta\")\n",
    "Plan02 = input(\"Distancia del sol del segundo planeta\")\n",
    "\n",
    "Plane01 = int(Plan01)\n",
    "Plane02 = int(Plan02)\n",
    "\n",
    "Distancia = Plane01 - Plane02\n",
    "Millas = Distancia * 0.621\n",
    "\n",
    "\n",
    "multiline = (f'Calcular la distancia entre dos planetas a elección.')\n",
    "Calculo = f\"\"\"----------------------------------------------------------------\n",
    "Distancia 1:{Plane01}\n",
    "Distancia 2:{Plane02}\n",
    "Distancia en Km = {abs(Distancia)} [Km]\n",
    "Distancia en millas = {abs(Millas)} [mi]\n",
    "\"\"\"\n",
    "print(multiline)\n",
    "print(Calculo)"
   ]
  }
 ],
 "metadata": {
  "interpreter": {
   "hash": "e9be50fb4cde9e4af4ad6ac868f3a5a13e8a856e8f814061292b5f072706683f"
  },
  "kernelspec": {
   "display_name": "Python 3.10.2 64-bit",
   "language": "python",
   "name": "python3"
  },
  "language_info": {
   "codemirror_mode": {
    "name": "ipython",
    "version": 3
   },
   "file_extension": ".py",
   "mimetype": "text/x-python",
   "name": "python",
   "nbconvert_exporter": "python",
   "pygments_lexer": "ipython3",
   "version": "3.10.2"
  },
  "orig_nbformat": 4
 },
 "nbformat": 4,
 "nbformat_minor": 2
}
