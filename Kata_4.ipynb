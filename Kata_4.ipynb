{
 "cells": [
  {
   "cell_type": "code",
   "execution_count": 2,
   "metadata": {},
   "outputs": [
    {
     "data": {
      "text/plain": [
       "['Interesting facts about the Moon.',\n",
       " \"The Moon is Earth's only satellite. There are several interesting facts about the Moon and how it affects life here on Earth.\",\n",
       " 'On average, the Moon moves 4cm away from the Earth every year.',\n",
       " 'This yearly drift is not significant enough to cause immediate effects on Earth.',\n",
       " 'The highest daylight temperature of the Moon is 127 C.']"
      ]
     },
     "execution_count": 2,
     "metadata": {},
     "output_type": "execute_result"
    }
   ],
   "source": [
    "text = \"\"\"Interesting facts about the Moon.-The Moon is Earth's only satellite. There are several interesting facts about the Moon and how it affects life here on Earth.-On average, the Moon moves 4cm away from the Earth every year.-This yearly drift is not significant enough to cause immediate effects on Earth.-The highest daylight temperature of the Moon is 127 C.\"\"\"\n",
    "\n",
    "text .split('-')"
   ]
  },
  {
   "cell_type": "code",
   "execution_count": 3,
   "metadata": {},
   "outputs": [
    {
     "name": "stdout",
     "output_type": "stream",
     "text": [
      "On average, the Moon moves 4cm away from the Earth every year.\n",
      "The highest daylight temperature of the Moon is 127 C.\n"
     ]
    }
   ],
   "source": [
    "# Define las palabras pista: average, temperature y distance suenan bien\n",
    "#Cree un bucle para imprimir solo datos sobre la Luna que estén relacionados con las palabras clave definidas anteriormente:\n",
    "text = \"\"\"Interesting facts about the Moon.-The Moon is Earth's only satellite. There are several interesting facts about the Moon and how it affects life here on Earth.-On average, the Moon moves 4cm away from the Earth every year.-This yearly drift is not significant enough to cause immediate effects on Earth.-The highest daylight temperature of the Moon is 127 C.\"\"\"\n",
    "acomodado = text .split('-')\n",
    "\n",
    "palabras = [\"average\", \"temperature\", \"distance\"]\n",
    "for sentence in acomodado:\n",
    "    for luna in palabras:\n",
    "        if luna in sentence:\n",
    "            print(sentence)\n",
    "            break\n"
   ]
  },
  {
   "cell_type": "code",
   "execution_count": 4,
   "metadata": {},
   "outputs": [
    {
     "name": "stdout",
     "output_type": "stream",
     "text": [
      "Interesting facts about the Moon.\n",
      "The Moon is Earth's only satellite. There are several interesting facts about the Moon and how it affects life here on Earth.\n",
      "On average, the Moon moves 4cm away from the Earth every year.\n",
      "This yearly drift is not significant enough to cause immediate effects on Earth.\n",
      "The highest daylight temperature of the Moon is 127 Celsius.\n"
     ]
    }
   ],
   "source": [
    "#Finalmente, actualiza el bucle(ciclo) para cambiar C a Celsius:\n",
    "text = \"\"\"Interesting facts about the Moon.-The Moon is Earth's only satellite. There are several interesting facts about the Moon and how it affects life here on Earth.-On average, the Moon moves 4cm away from the Earth every year.-This yearly drift is not significant enough to cause immediate effects on Earth.-The highest daylight temperature of the Moon is 127 C.\"\"\"\n",
    "acomodado = text .split('-')\n",
    "\n",
    "for sentence in acomodado:\n",
    "    for cambio in acomodado:\n",
    "        if cambio in sentence:\n",
    "            print(sentence.replace(' C', ' Celsius'))\n",
    "            break"
   ]
  },
  {
   "cell_type": "markdown",
   "metadata": {},
   "source": [
    "Ejercicio 2:Formateando Cadenas."
   ]
  },
  {
   "cell_type": "code",
   "execution_count": 5,
   "metadata": {},
   "outputs": [
    {
     "name": "stdout",
     "output_type": "stream",
     "text": [
      "Gravity facts about:\n",
      " Ganímedes\n",
      "------------------------------------------------\n",
      "Planet name:\n",
      "Marte\n",
      "Gravity on Ganymede:\n",
      "1.4300000000000002 [m/s^2]\n",
      "\n"
     ]
    }
   ],
   "source": [
    "# Datos con los que vas a trabajar\n",
    "planeta = 'Marte'\n",
    "gravedad  = 0.00143\n",
    "nombre = 'Ganímedes'\n",
    "\n",
    "print(f'Gravity facts about:\\n', nombre)\n",
    "multiline = f\"\"\"------------------------------------------------\n",
    "Planet name:\\n{planeta}\n",
    "Gravity on Ganymede:\\n{gravedad*1000} [m/s^2]\n",
    "\"\"\"\n",
    "print(multiline)\n"
   ]
  }
 ],
 "metadata": {
  "interpreter": {
   "hash": "e9be50fb4cde9e4af4ad6ac868f3a5a13e8a856e8f814061292b5f072706683f"
  },
  "kernelspec": {
   "display_name": "Python 3.10.2 64-bit",
   "language": "python",
   "name": "python3"
  },
  "language_info": {
   "codemirror_mode": {
    "name": "ipython",
    "version": 3
   },
   "file_extension": ".py",
   "mimetype": "text/x-python",
   "name": "python",
   "nbconvert_exporter": "python",
   "pygments_lexer": "ipython3",
   "version": "3.10.2"
  },
  "orig_nbformat": 4
 },
 "nbformat": 4,
 "nbformat_minor": 2
}
