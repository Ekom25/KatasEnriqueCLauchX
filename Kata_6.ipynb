{
 "cells": [
  {
   "cell_type": "markdown",
   "metadata": {},
   "source": [
    "Ejercicio1: Crear y usar listas de Python\n",
    "Ejercicio: Usar listas para almacenar nombres de planetas"
   ]
  },
  {
   "cell_type": "code",
   "execution_count": 40,
   "metadata": {},
   "outputs": [
    {
     "name": "stdout",
     "output_type": "stream",
     "text": [
      "El número de planetas sin Plutón es: 8\n",
      "El número de planetas con Plutón es: 9\n",
      "El último planeta es: Plutón\n"
     ]
    }
   ],
   "source": [
    "#Creamos la lista planets y la mostramos\n",
    "\n",
    "planetas = ['Mercurio', 'Venus', ' Tierra', 'Marte', 'Jupiter', 'Saturno', 'Urano', 'Neptuno']\n",
    "numero_planetas = len(planetas)\n",
    "print('El número de planetas sin Plutón es:',numero_planetas)\n",
    "\n",
    "#Agregamos a plutón y mostramos el último elemento\n",
    "planetas.append('Plutón')\n",
    "planetas_con = len(planetas)\n",
    "print('El número de planetas con Plutón es:',planetas_con)\n",
    "print('El último planeta es:', planetas[8])"
   ]
  },
  {
   "cell_type": "markdown",
   "metadata": {},
   "source": [
    "Ejercicio 2: Trabajando con datos de una lista\n",
    "Usar slices para recuperar partes de una lista"
   ]
  },
  {
   "cell_type": "code",
   "execution_count": 43,
   "metadata": {},
   "outputs": [
    {
     "name": "stdout",
     "output_type": "stream",
     "text": [
      "El planeta es: Marte y se encuentra en la posición: 4\n",
      "Los planetas mas cercanos al Sol son: ['Mercurio', 'Venus', 'Tierra']\n",
      "Los planetas más alejados al Sol son: ['Jupiter', 'Saturno', 'Urano', 'Neptuno']\n"
     ]
    }
   ],
   "source": [
    "#Creamos la lista planets y la mostramos\n",
    "planetas = ['Mercurio', 'Venus', 'Tierra', 'Marte', 'Jupiter', 'Saturno', 'Urano', 'Neptuno']\n",
    "# Solicitamos el nombre de un planeta\n",
    "In_plan = input('Ingrese un nombre de un planeta, primera letra con mayúscula:')\n",
    "# Busca el planeta en la lista\n",
    "Busca = planetas.index(In_plan)\n",
    "print('El planeta es:', In_plan, 'y se encuentra en la posición:', Busca + 1)\n",
    "# Muestra los planetas más cercanos al sol\n",
    "Cerca_Sol = planetas [0:Busca]\n",
    "print('Los planetas mas cercanos al Sol son:', Cerca_Sol)\n",
    "Lejos_Sol = planetas [Busca + 1:]\n",
    "print('Los planetas más alejados al Sol son:', Lejos_Sol)"
   ]
  }
 ],
 "metadata": {
  "interpreter": {
   "hash": "e9be50fb4cde9e4af4ad6ac868f3a5a13e8a856e8f814061292b5f072706683f"
  },
  "kernelspec": {
   "display_name": "Python 3.10.2 64-bit",
   "language": "python",
   "name": "python3"
  },
  "language_info": {
   "codemirror_mode": {
    "name": "ipython",
    "version": 3
   },
   "file_extension": ".py",
   "mimetype": "text/x-python",
   "name": "python",
   "nbconvert_exporter": "python",
   "pygments_lexer": "ipython3",
   "version": "3.10.2"
  },
  "orig_nbformat": 4
 },
 "nbformat": 4,
 "nbformat_minor": 2
}
