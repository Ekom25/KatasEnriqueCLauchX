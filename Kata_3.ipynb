{
 "cells": [
  {
   "cell_type": "code",
   "execution_count": 12,
   "metadata": {},
   "outputs": [
    {
     "name": "stdout",
     "output_type": "stream",
     "text": [
      "¡¡¡¡PELIGRO!!!!!!, Asteroide se acerca\n"
     ]
    }
   ],
   "source": [
    "#Para este ejercicio, escribirás una lógica condicional que imprima una advertencia si un asteroide se acerca a la Tierra demasiado rápido. \n",
    "# La velocidad del asteroide varía dependiendo de lo cerca que esté del sol, y cualquier velocidad superior a 25 kilómetros por segundo (km/s)\n",
    "# merece una advertencia.\n",
    "# Un asteroide se acerca, y viaja a una velocidad de 49 km/s.\n",
    "\n",
    "VeloAster=49\n",
    "if VeloAster > 25:\n",
    "    print(\"¡¡¡¡PELIGRO!!!!!!, Asteroide se acerca\")\n",
    "else:\n",
    "    print(\"Sin problema, asteroide eliminado\")    "
   ]
  },
  {
   "cell_type": "code",
   "execution_count": 11,
   "metadata": {},
   "outputs": [
    {
     "name": "stdout",
     "output_type": "stream",
     "text": [
      "Sin novedades\n"
     ]
    }
   ],
   "source": [
    "#Si un asteroide entra en la atmósfera de la Tierra a una velocidad mayor o igual a 20 km/s, a veces produce un rayo de luz que se puede ver desde la Tierra.\n",
    "#  Escribe la lógica condicional que usa declaraciones if, else, y elif para alertar a las personas de todo el mundo que deben buscar un asteroide en el cielo. \n",
    "# ¡Hay uno que se dirige a la tierra ahora a una velocidad de 19 km/s!\n",
    "\n",
    "VeloAster=19\n",
    "if VeloAster > 25:\n",
    "    print(\"¡¡¡¡PELIGRO!!!!!!, Asteroide se acerca\")\n",
    "elif VeloAster >= 20:\n",
    "    print(\"Asteoride entro a la atmosfera\")\n",
    "else:\n",
    "    print(\"Sin novedades\")    "
   ]
  },
  {
   "cell_type": "code",
   "execution_count": 29,
   "metadata": {},
   "outputs": [
    {
     "name": "stdout",
     "output_type": "stream",
     "text": [
      "¡¡¡¡PELIGRO!!!!!!, Asteroide se acerca\n"
     ]
    }
   ],
   "source": [
    "#Los asteroides de menos de 25 metros en su dimensión más grande probablemente se quemarán a medida que entren en la atmósfera de la Tierra.\n",
    "#Si una pieza de un asteroide que es más grande que 25 metros pero más pequeña que 1000 metros golpeara la Tierra, causaría mucho daño.\n",
    "\n",
    "VeloAster=25\n",
    "VolumAster=30\n",
    "if VeloAster > 25 and VolumAster < 1000:\n",
    "    print(\"¡¡¡¡PELIGRO!!!!!!, Asteroide se acerca\")\n",
    "elif VolumAster > 25 or VeloAster >= 20:\n",
    "    print(\"¡¡¡¡PELIGRO!!!!!!, Asteroide se acerca\")\n",
    "else:\n",
    "    print(\"Sin novedades\")    "
   ]
  }
 ],
 "metadata": {
  "interpreter": {
   "hash": "e9be50fb4cde9e4af4ad6ac868f3a5a13e8a856e8f814061292b5f072706683f"
  },
  "kernelspec": {
   "display_name": "Python 3.10.2 64-bit",
   "language": "python",
   "name": "python3"
  },
  "language_info": {
   "codemirror_mode": {
    "name": "ipython",
    "version": 3
   },
   "file_extension": ".py",
   "mimetype": "text/x-python",
   "name": "python",
   "nbconvert_exporter": "python",
   "pygments_lexer": "ipython3",
   "version": "3.10.2"
  },
  "orig_nbformat": 4
 },
 "nbformat": 4,
 "nbformat_minor": 2
}
