{
 "cells": [
  {
   "cell_type": "markdown",
   "metadata": {},
   "source": [
    "Ejercicio: Uso de funciones en Python\n",
    "\n",
    "Ejercicio 1: Trabajar con argumentos en funciones\n",
    "\n",
    "Los argumentos requeridos en las funciones se utilizan cuando las funciones necesitan que esos argumentos funcionen correctamente. En este ejercicio, construirás un informe de combustible que requiere información de varias ubicaciones de combustible en todo el cohete."
   ]
  },
  {
   "cell_type": "code",
   "execution_count": 7,
   "metadata": {},
   "outputs": [
    {
     "data": {
      "text/plain": [
       "'Estado:\\nTotal promedio: 55.333333333333336%\\nTanque 1: 53%,\\nTanque 2: 54%\\nHydrogen tank: 59% \\n'"
      ]
     },
     "execution_count": 7,
     "metadata": {},
     "output_type": "execute_result"
    }
   ],
   "source": [
    "def combustible(Tanque1, Tanque2, Tanque3):\n",
    "    Total_Combustible = (Tanque1 + Tanque2 + Tanque3) / 3\n",
    "    if Total_Combustible > 30:\n",
    "        return f\"\"\"Estado:\n",
    "Total promedio: {Total_Combustible}%\n",
    "Tanque 1: {Tanque1}%,\n",
    "Tanque 2: {Tanque2}%\n",
    "Hydrogen tank: {Tanque3}% \n",
    "\"\"\"\n",
    "    else:\n",
    "        return 'No hay suficiente combustible'\n",
    "\n",
    "combustible(53,54,59)"
   ]
  },
  {
   "cell_type": "markdown",
   "metadata": {},
   "source": [
    "Ejercicio 2: Trabajo con argumentos de palabra clave\n",
    "\n",
    "Ejercicio : Trabajar con argumentos de palabras clave en funciones"
   ]
  },
  {
   "cell_type": "code",
   "execution_count": 3,
   "metadata": {},
   "outputs": [
    {
     "name": "stdout",
     "output_type": "stream",
     "text": [
      "\n",
      "    Misión a Marte\n",
      "    Tiempo de viaje: 52 minutos\n",
      "    Cantidad de combustible: 170523 litros\n",
      "    \n"
     ]
    }
   ],
   "source": [
    "# Función con un informe preciso de la misión. Considera hora de prelanzamiento, tiempo de vuelo, destino, tanque externo y tanque interno\n",
    "\n",
    "def mision(prelanzamiento, vuelo, destino, tan_ext, tan_int):\n",
    "    return f\"\"\"\n",
    "    Misión a {destino}\n",
    "    Tiempo de viaje: {prelanzamiento + vuelo} minutos\n",
    "    Cantidad de combustible: {tan_ext + tan_int} litros\n",
    "    \"\"\"\n",
    "\n",
    "print(mision(17, 35, \"Marte\", 98124, 72399))\n"
   ]
  },
  {
   "cell_type": "code",
   "execution_count": 2,
   "metadata": {},
   "outputs": [
    {
     "name": "stdout",
     "output_type": "stream",
     "text": [
      "\n",
      "    Misión a Marte\n",
      "    Tiempo de viaje: 76 minutos\n",
      "    Total de combustible: 170523\n",
      "    \n"
     ]
    }
   ],
   "source": [
    "def mission_report(destino, *minutos, **combustible):\n",
    "    return f\"\"\"\n",
    "    Misión a {destino}\n",
    "    Tiempo de viaje: {sum(minutos)} minutos\n",
    "    Total de combustible: {sum(combustible.values())}\n",
    "    \"\"\"\n",
    "\n",
    "print(mission_report(\"Marte\", 10, 15, 51, externo=98124, interno=72399))"
   ]
  }
 ],
 "metadata": {
  "interpreter": {
   "hash": "e9be50fb4cde9e4af4ad6ac868f3a5a13e8a856e8f814061292b5f072706683f"
  },
  "kernelspec": {
   "display_name": "Python 3.10.2 64-bit",
   "language": "python",
   "name": "python3"
  },
  "language_info": {
   "codemirror_mode": {
    "name": "ipython",
    "version": 3
   },
   "file_extension": ".py",
   "mimetype": "text/x-python",
   "name": "python",
   "nbconvert_exporter": "python",
   "pygments_lexer": "ipython3",
   "version": "3.10.2"
  },
  "orig_nbformat": 4
 },
 "nbformat": 4,
 "nbformat_minor": 2
}
